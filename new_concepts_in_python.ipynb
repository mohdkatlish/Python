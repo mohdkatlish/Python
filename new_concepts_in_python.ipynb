{
 "cells": [
  {
   "cell_type": "markdown",
   "metadata": {},
   "source": [
    "# Async Function"
   ]
  },
  {
   "cell_type": "markdown",
   "metadata": {},
   "source": [
    "In Python, async def and the await statement are used to work with asynchronous code, specifically in the context of asynchronous functions and coroutines. Asynchronous code allows you to perform non-blocking I/O operations, making your programs more efficient when dealing with tasks like network requests or file I/O.\n",
    "\n",
    "Let's break down the concepts with examples:"
   ]
  },
  {
   "cell_type": "markdown",
   "metadata": {},
   "source": [
    "1. async def:\n",
    "\n",
    "- async def is used to define an asynchronous function or coroutine. Asynchronous functions can be paused and resumed during their execution, allowing other code to run in the meantime without blocking the main thread.\n",
    "\n",
    "- Here's a simple example of defining an asynchronous function:"
   ]
  },
  {
   "cell_type": "code",
   "execution_count": null,
   "metadata": {},
   "outputs": [],
   "source": [
    "import asyncio\n",
    "\n",
    "async def my_async_function():\n",
    "    print(\"Start\")\n",
    "    await asyncio.sleep(1)  # Simulate a non-blocking operation (sleep for 1 second)\n",
    "    print(\"End\")"
   ]
  },
  {
   "cell_type": "markdown",
   "metadata": {},
   "source": [
    "- In the above code, my_async_function is an asynchronous function. It can be called like a regular function but returns a coroutine object."
   ]
  },
  {
   "cell_type": "markdown",
   "metadata": {},
   "source": [
    "2. await:\n",
    "\n",
    "The await keyword is used within an asynchronous function to pause its execution until the awaited asynchronous operation is complete. It can only be used inside an async function.\n",
    "\n",
    "Here's how you use await to pause the execution of an asynchronous function:\n"
   ]
  },
  {
   "cell_type": "code",
   "execution_count": null,
   "metadata": {},
   "outputs": [],
   "source": [
    "import asyncio\n",
    "\n",
    "async def my_async_function():\n",
    "    print(\"Start\")\n",
    "    await asyncio.sleep(1)  # This line pauses execution for 1 second.\n",
    "    print(\"End\")\n",
    "    \n",
    "    asyncio.run(my_async_function())  # Run the asynchronous function"
   ]
  },
  {
   "cell_type": "markdown",
   "metadata": {},
   "source": [
    "\n",
    "In this example, await asyncio.sleep(1) pauses the execution of my_async_function for 1 second without blocking the entire program. This allows other tasks to run concurrently.\n",
    "\n",
    "You can also use await with other asynchronous functions like making HTTP requests, reading/writing files, or performing database operations.\n",
    "\n",
    "Here's how you can run multiple asynchronous tasks concurrently using asyncio.gather:"
   ]
  },
  {
   "cell_type": "code",
   "execution_count": null,
   "metadata": {},
   "outputs": [],
   "source": [
    "import asyncio\n",
    "\n",
    "async def task1():\n",
    "    await asyncio.sleep(2)\n",
    "    print(\"Task 1 done\")\n",
    "\n",
    "async def task2():\n",
    "    await asyncio.sleep(1)\n",
    "    print(\"Task 2 done\")\n",
    "\n",
    "async def main():\n",
    "    await asyncio.gather(task1(), task2())\n",
    "\n",
    "asyncio.run(main())"
   ]
  },
  {
   "cell_type": "markdown",
   "metadata": {},
   "source": [
    "In this example, asyncio.gather is used to run task1 and task2 concurrently, and their execution can overlap thanks to the asynchronous nature of async and await.\n",
    "\n",
    "Async/await is particularly useful for I/O-bound operations in applications such as web servers and asynchronous APIs, as it allows you to efficiently handle many requests simultaneously without wasting resources on blocking operations."
   ]
  },
  {
   "cell_type": "markdown",
   "metadata": {},
   "source": [
    "------"
   ]
  },
  {
   "cell_type": "code",
   "execution_count": 1,
   "metadata": {},
   "outputs": [],
   "source": [
    "#This function will download the dataset \n",
    "\n",
    "from pyodide.http import pyfetch\n",
    "\n",
    "async def download(url, filename):\n",
    "    response = await pyfetch(url)\n",
    "    if response.status == 200:\n",
    "        with open(filename, \"wb\") as f:\n",
    "            f.write(await response.bytes())"
   ]
  },
  {
   "cell_type": "code",
   "execution_count": 2,
   "metadata": {},
   "outputs": [],
   "source": [
    "path = \"https://cf-courses-data.s3.us.cloud-object-storage.appdomain.cloud/IBMDeveloperSkillsNetwork-DA0101EN-SkillsNetwork/labs/Data%20files/auto.csv\""
   ]
  },
  {
   "cell_type": "code",
   "execution_count": 6,
   "metadata": {},
   "outputs": [
    {
     "ename": "RuntimeError",
     "evalue": "asyncio.run() cannot be called from a running event loop",
     "output_type": "error",
     "traceback": [
      "\u001b[0;31m---------------------------------------------------------------------------\u001b[0m",
      "\u001b[0;31mRuntimeError\u001b[0m                              Traceback (most recent call last)",
      "\u001b[1;32m/media/katlish/Programming/Data Analysis/Python/new_concepts_in_python.ipynb Cell 14\u001b[0m line \u001b[0;36m6\n\u001b[1;32m      <a href='vscode-notebook-cell:/media/katlish/Programming/Data%20Analysis/Python/new_concepts_in_python.ipynb#X20sZmlsZQ%3D%3D?line=2'>3</a>\u001b[0m     path \u001b[39m=\u001b[39m \u001b[39m\"\u001b[39m\u001b[39mauto.csv\u001b[39m\u001b[39m\"\u001b[39m  \u001b[39m# Define the path variable\u001b[39;00m\n\u001b[1;32m      <a href='vscode-notebook-cell:/media/katlish/Programming/Data%20Analysis/Python/new_concepts_in_python.ipynb#X20sZmlsZQ%3D%3D?line=3'>4</a>\u001b[0m     \u001b[39mawait\u001b[39;00m download(\u001b[39m\"\u001b[39m\u001b[39mhttps://cf-courses-data.s3.us.cloud-object-storage.appdomain.cloud/IBMDeveloperSkillsNetwork-DA0101EN-SkillsNetwork/labs/Data\u001b[39m\u001b[39m%20f\u001b[39;00m\u001b[39miles/auto.csv\u001b[39m\u001b[39m\"\u001b[39m, path)  \u001b[39m# Call the download function\u001b[39;00m\n\u001b[0;32m----> <a href='vscode-notebook-cell:/media/katlish/Programming/Data%20Analysis/Python/new_concepts_in_python.ipynb#X20sZmlsZQ%3D%3D?line=5'>6</a>\u001b[0m asyncio\u001b[39m.\u001b[39;49mrun(main())\n",
      "File \u001b[0;32m/usr/lib/python3.11/asyncio/runners.py:186\u001b[0m, in \u001b[0;36mrun\u001b[0;34m(main, debug)\u001b[0m\n\u001b[1;32m    161\u001b[0m \u001b[39m\u001b[39m\u001b[39m\"\"\"Execute the coroutine and return the result.\u001b[39;00m\n\u001b[1;32m    162\u001b[0m \n\u001b[1;32m    163\u001b[0m \u001b[39mThis function runs the passed coroutine, taking care of\u001b[39;00m\n\u001b[0;32m   (...)\u001b[0m\n\u001b[1;32m    182\u001b[0m \u001b[39m    asyncio.run(main())\u001b[39;00m\n\u001b[1;32m    183\u001b[0m \u001b[39m\"\"\"\u001b[39;00m\n\u001b[1;32m    184\u001b[0m \u001b[39mif\u001b[39;00m events\u001b[39m.\u001b[39m_get_running_loop() \u001b[39mis\u001b[39;00m \u001b[39mnot\u001b[39;00m \u001b[39mNone\u001b[39;00m:\n\u001b[1;32m    185\u001b[0m     \u001b[39m# fail fast with short traceback\u001b[39;00m\n\u001b[0;32m--> 186\u001b[0m     \u001b[39mraise\u001b[39;00m \u001b[39mRuntimeError\u001b[39;00m(\n\u001b[1;32m    187\u001b[0m         \u001b[39m\"\u001b[39m\u001b[39masyncio.run() cannot be called from a running event loop\u001b[39m\u001b[39m\"\u001b[39m)\n\u001b[1;32m    189\u001b[0m \u001b[39mwith\u001b[39;00m Runner(debug\u001b[39m=\u001b[39mdebug) \u001b[39mas\u001b[39;00m runner:\n\u001b[1;32m    190\u001b[0m     \u001b[39mreturn\u001b[39;00m runner\u001b[39m.\u001b[39mrun(main)\n",
      "\u001b[0;31mRuntimeError\u001b[0m: asyncio.run() cannot be called from a running event loop"
     ]
    }
   ],
   "source": [
    "import asyncio\n",
    "async def main():\n",
    "    path = \"auto.csv\"  # Define the path variable\n",
    "    await download(\"https://cf-courses-data.s3.us.cloud-object-storage.appdomain.cloud/IBMDeveloperSkillsNetwork-DA0101EN-SkillsNetwork/labs/Data%20files/auto.csv\", path)  # Call the download function\n",
    "\n",
    "asyncio.run(main())"
   ]
  },
  {
   "cell_type": "code",
   "execution_count": null,
   "metadata": {},
   "outputs": [],
   "source": []
  }
 ],
 "metadata": {
  "kernelspec": {
   "display_name": "Python 3",
   "language": "python",
   "name": "python3"
  },
  "language_info": {
   "codemirror_mode": {
    "name": "ipython",
    "version": 3
   },
   "file_extension": ".py",
   "mimetype": "text/x-python",
   "name": "python",
   "nbconvert_exporter": "python",
   "pygments_lexer": "ipython3",
   "version": "3.11.5"
  },
  "orig_nbformat": 4
 },
 "nbformat": 4,
 "nbformat_minor": 2
}
